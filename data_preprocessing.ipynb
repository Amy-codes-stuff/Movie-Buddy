{
 "cells": [
  {
   "cell_type": "code",
   "execution_count": 3,
   "id": "71b69fa6",
   "metadata": {},
   "outputs": [],
   "source": [
    "import pandas as pd\n",
    "import numpy as np\n",
    "\n",
    "# Load the datasets\n",
    "movies = pd.read_csv('tmdb_5000_movies.csv')\n",
    "credits = pd.read_csv('tmdb_5000_credits.csv')\n",
    "\n",
    "# Merge them on the 'title' column\n",
    "movies = movies.merge(credits, on='title')\n",
    "\n",
    "# Select the features we will use for recommendation\n",
    "movies = movies[['movie_id', 'title', 'overview', 'genres', 'keywords', 'cast', 'crew']]\n",
    "\n",
    "# Drop rows with missing values\n",
    "movies.dropna(inplace=True)"
   ]
  },
  {
   "cell_type": "code",
   "execution_count": 4,
   "id": "749a5919",
   "metadata": {},
   "outputs": [],
   "source": [
    "import ast # To convert string-of-list to an actual list\n",
    "\n",
    "def convert(obj):\n",
    "    \"\"\"Extracts names from a stringified list of dictionaries.\"\"\"\n",
    "    L = []\n",
    "    for i in ast.literal_eval(obj):\n",
    "        L.append(i['name'])\n",
    "    return L\n",
    "\n",
    "def get_director(obj):\n",
    "    \"\"\"Finds the director's name from the crew list.\"\"\"\n",
    "    L = []\n",
    "    for i in ast.literal_eval(obj):\n",
    "        if i['job'] == 'Director':\n",
    "            L.append(i['name'])\n",
    "            break # We only need one director\n",
    "    return L\n",
    "\n",
    "# Apply the functions\n",
    "movies['genres'] = movies['genres'].apply(convert)\n",
    "movies['keywords'] = movies['keywords'].apply(convert)\n",
    "# For cast, let's just take the top 3 actors\n",
    "movies['cast'] = movies['cast'].apply(lambda x: convert(x)[:3])\n",
    "movies['crew'] = movies['crew'].apply(get_director)\n",
    "\n",
    "# The 'overview' is a string, let's convert it to a list of words\n",
    "movies['overview'] = movies['overview'].apply(lambda x: x.split())"
   ]
  },
  {
   "cell_type": "code",
   "execution_count": 5,
   "id": "e68848bb",
   "metadata": {},
   "outputs": [
    {
     "name": "stderr",
     "output_type": "stream",
     "text": [
      "C:\\Users\\tiwar.LAPTOP-HENDOA2O\\AppData\\Local\\Temp\\ipykernel_29564\\3216935600.py:14: SettingWithCopyWarning: \n",
      "A value is trying to be set on a copy of a slice from a DataFrame.\n",
      "Try using .loc[row_indexer,col_indexer] = value instead\n",
      "\n",
      "See the caveats in the documentation: https://pandas.pydata.org/pandas-docs/stable/user_guide/indexing.html#returning-a-view-versus-a-copy\n",
      "  new_df['tags'] = new_df['tags'].apply(lambda x: \" \".join(x))\n",
      "C:\\Users\\tiwar.LAPTOP-HENDOA2O\\AppData\\Local\\Temp\\ipykernel_29564\\3216935600.py:15: SettingWithCopyWarning: \n",
      "A value is trying to be set on a copy of a slice from a DataFrame.\n",
      "Try using .loc[row_indexer,col_indexer] = value instead\n",
      "\n",
      "See the caveats in the documentation: https://pandas.pydata.org/pandas-docs/stable/user_guide/indexing.html#returning-a-view-versus-a-copy\n",
      "  new_df['tags'] = new_df['tags'].apply(lambda x: x.lower()) # Convert to lowercase\n"
     ]
    }
   ],
   "source": [
    "# Remove spaces between names to treat \"James Cameron\" as one entity\n",
    "movies['genres'] = movies['genres'].apply(lambda x: [i.replace(\" \",\"\") for i in x])\n",
    "movies['keywords'] = movies['keywords'].apply(lambda x: [i.replace(\" \",\"\") for i in x])\n",
    "movies['cast'] = movies['cast'].apply(lambda x: [i.replace(\" \",\"\") for i in x])\n",
    "movies['crew'] = movies['crew'].apply(lambda x: [i.replace(\" \",\"\") for i in x])\n",
    "\n",
    "# Create the 'tags' column\n",
    "movies['tags'] = movies['overview'] + movies['genres'] + movies['keywords'] + movies['cast'] + movies['crew']\n",
    "\n",
    "# Create a new dataframe with just the necessary columns\n",
    "new_df = movies[['movie_id', 'title', 'tags']]\n",
    "\n",
    "# Convert the list of tags back into a single string\n",
    "new_df['tags'] = new_df['tags'].apply(lambda x: \" \".join(x))\n",
    "new_df['tags'] = new_df['tags'].apply(lambda x: x.lower()) # Convert to lowercase"
   ]
  },
  {
   "cell_type": "code",
   "execution_count": 6,
   "id": "665c8816",
   "metadata": {},
   "outputs": [],
   "source": [
    "from sklearn.feature_extraction.text import CountVectorizer\n",
    "\n",
    "cv = CountVectorizer(max_features=5000, stop_words='english')\n",
    "\n",
    "# Fit and transform the tags\n",
    "vectors = cv.fit_transform(new_df['tags']).toarray()"
   ]
  },
  {
   "cell_type": "code",
   "execution_count": 7,
   "id": "6d47e221",
   "metadata": {},
   "outputs": [],
   "source": [
    "from sklearn.metrics.pairwise import cosine_similarity\n",
    "\n",
    "# Calculate the cosine similarity matrix\n",
    "similarity = cosine_similarity(vectors)"
   ]
  },
  {
   "cell_type": "code",
   "execution_count": 9,
   "id": "29d63be0",
   "metadata": {},
   "outputs": [
    {
     "name": "stdout",
     "output_type": "stream",
     "text": [
      "Titan A.E.\n",
      "Small Soldiers\n",
      "Independence Day\n",
      "Ender's Game\n",
      "Aliens vs Predator: Requiem\n",
      "Lifeforce\n",
      "Battle: Los Angeles\n",
      "Predators\n",
      "Aliens\n",
      "Falcon Rising\n"
     ]
    }
   ],
   "source": [
    "def recommend(movie):\n",
    "    # Find the index of the movie\n",
    "    movie_index = new_df[new_df['title'] == movie].index[0]\n",
    "    \n",
    "    # Get the similarity scores for that movie\n",
    "    distances = similarity[movie_index]\n",
    "    \n",
    "    # Sort the movies based on similarity, get top 5\n",
    "    movies_list = sorted(list(enumerate(distances)), reverse=True, key=lambda x: x[1])[1:11]\n",
    "    \n",
    "    # Print the titles of the recommended movies\n",
    "    for i in movies_list:\n",
    "        print(new_df.iloc[i[0]].title)\n",
    "\n",
    "# Example usage:\n",
    "recommend('Avatar')"
   ]
  },
  {
   "cell_type": "code",
   "execution_count": 10,
   "id": "0e4fb02e",
   "metadata": {},
   "outputs": [
    {
     "name": "stdout",
     "output_type": "stream",
     "text": [
      "Out of Inferno\n",
      "Aladdin\n",
      "Toy Story 3\n",
      "The Princess and the Frog\n",
      "Frozen\n",
      "The Smurfs\n",
      "Despicable Me 2\n",
      "Dinosaur\n",
      "Monsters vs Aliens\n",
      "Shrek\n"
     ]
    }
   ],
   "source": [
    "recommend('Tangled')"
   ]
  },
  {
   "cell_type": "code",
   "execution_count": 11,
   "id": "8f4bd5fb",
   "metadata": {},
   "outputs": [],
   "source": [
    "import pickle\n",
    "\n",
    "# Save the dataframe\n",
    "pickle.dump(new_df.to_dict(), open('movie_dict.pkl', 'wb'))\n",
    "\n",
    "# Save the similarity matrix\n",
    "pickle.dump(similarity, open('similarity.pkl', 'wb'))"
   ]
  },
  {
   "cell_type": "code",
   "execution_count": null,
   "id": "5cb6e429",
   "metadata": {},
   "outputs": [],
   "source": []
  }
 ],
 "metadata": {
  "kernelspec": {
   "display_name": "Python 3",
   "language": "python",
   "name": "python3"
  },
  "language_info": {
   "codemirror_mode": {
    "name": "ipython",
    "version": 3
   },
   "file_extension": ".py",
   "mimetype": "text/x-python",
   "name": "python",
   "nbconvert_exporter": "python",
   "pygments_lexer": "ipython3",
   "version": "3.13.1"
  }
 },
 "nbformat": 4,
 "nbformat_minor": 5
}
